{
 "cells": [
  {
   "cell_type": "code",
   "execution_count": 4,
   "id": "9eea400f",
   "metadata": {},
   "outputs": [
    {
     "name": "stdout",
     "output_type": "stream",
     "text": [
      "           date home_team      score foreign_team\n",
      "0    22-05-2022              Arsenal        5 - 1\n",
      "1    16-05-2022            Newcastle        2 - 0\n",
      "2    12-05-2022            Tottenham        3 - 0\n",
      "3    08-05-2022              Arsenal        2 - 1\n",
      "4    01-05-2022             West Ham        1 - 2\n",
      "..          ...       ...        ...          ...\n",
      "755  18-09-2021               Wolves        0 - 2\n",
      "756  11-09-2021              Watford        0 - 2\n",
      "757  29-08-2021               Wolves        0 - 1\n",
      "758  22-08-2021               Wolves        0 - 1\n",
      "759  14-08-2021            Leicester        1 - 0\n",
      "\n",
      "[760 rows x 4 columns]\n"
     ]
    }
   ],
   "source": [
    "import pandas as pd\n",
    "from selenium import webdriver\n",
    "from selenium.webdriver.support.ui import Select\n",
    "from selenium.webdriver.chrome.service import Service\n",
    "from selenium.webdriver.common.by import By\n",
    "import time\n",
    "\n",
    "website = 'https://www.adamchoi.co.uk/overs/detailed'\n",
    "path = 'D:/chromr download/chromedriver-win64/chromedriver-win64/chromedriver.exe'\n",
    "\n",
    "service = Service(executable_path=path)\n",
    "driver = webdriver.Chrome(service=service)\n",
    "driver.get(website)\n",
    "\n",
    "select_element = driver.find_element(By.ID, 'season')\n",
    "\n",
    "\n",
    "\n",
    "all_matches_button = driver.find_element(By.XPATH, '//label[@analytics-event=\"All matches\"]')\n",
    "all_matches_button.click()\n",
    "\n",
    "select = Select(select_element)\n",
    "select.select_by_visible_text('21/22')\n",
    "\n",
    "time.sleep(5)\n",
    "\n",
    "\n",
    "\n",
    "\n",
    "\n",
    "\n",
    "matches = driver.find_elements(By.TAG_NAME, 'tr')\n",
    "\n",
    "date = []\n",
    "home_team = []\n",
    "score = []\n",
    "foreign_team = []\n",
    "\n",
    "\n",
    "for match in matches:\n",
    "    date.append(match.find_element(By.XPATH, './td[1]').text)\n",
    "    home_team.append(match.find_element(By.XPATH, './td[2]').text)\n",
    "    score.append(match.find_element(By.XPATH, './td[3]').text)\n",
    "    foreign_team.append(match.find_element(By.XPATH, './td[4]').text)\n",
    "    \n",
    "df = pd.DataFrame({'date': date, 'home_team' :home_team, 'score': score,'foreign_team': foreign_team})\n",
    "\n",
    "df.to_csv('football_data.csv', index =False)\n",
    "\n",
    "print(df)\n",
    "\n",
    "\n",
    "#driver.quit()\n",
    "#jjojo\n",
    "#hehe\n",
    "#hah\n",
    "\n"
   ]
  },
  {
   "cell_type": "code",
   "execution_count": null,
   "id": "ae146877",
   "metadata": {},
   "outputs": [],
   "source": []
  },
  {
   "cell_type": "code",
   "execution_count": null,
   "id": "61184633",
   "metadata": {},
   "outputs": [],
   "source": []
  }
 ],
 "metadata": {
  "kernelspec": {
   "display_name": "Python 3",
   "language": "python",
   "name": "python3"
  },
  "language_info": {
   "codemirror_mode": {
    "name": "ipython",
    "version": 3
   },
   "file_extension": ".py",
   "mimetype": "text/x-python",
   "name": "python",
   "nbconvert_exporter": "python",
   "pygments_lexer": "ipython3",
   "version": "3.13.6"
  }
 },
 "nbformat": 4,
 "nbformat_minor": 5
}
