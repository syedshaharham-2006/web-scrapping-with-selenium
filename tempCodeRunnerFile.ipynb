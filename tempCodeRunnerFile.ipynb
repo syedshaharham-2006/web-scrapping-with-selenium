all_matches_button.click()

select_element = driver.find_element(By.ID, 'season')

select = Select(select_element)

select.select_by_visible_text('2024/2025')

matches = driver.find_elements(By.TAG_NAME, 'tr')

date = []
home_team = []
score = []
foreign_team = []


for match in matches:
    date.append(match.find_element(By.XPATH, './td[1]')).text
    home_team.append(match.find_element(By.XPATH, './td[2]')).text
    score.append(match.find_element(By.XPATH, './td[3]')).text
    foreign_team.append(match.find_element(By.XPATH, './td[4]')).text
    
df = pd.DataFrame({'date': date, 'home_team' :home_team, 'score': score,
            'foreign_team': foreign_team})

df.to_csv('football_data.csv', index =False)

print(df)